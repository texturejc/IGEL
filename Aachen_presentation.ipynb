{
 "cells": [
  {
   "cell_type": "markdown",
   "id": "6269c7d4-1dcc-46cc-8f4b-91e4738e8cce",
   "metadata": {},
   "source": [
    "![](LIS_logo.png)"
   ]
  },
  {
   "cell_type": "code",
   "execution_count": 98,
   "id": "585f683d-41e7-4fa9-bb67-018e2df79de0",
   "metadata": {},
   "outputs": [],
   "source": [
    "import plotly.express as px\n",
    "import pandas as pd\n",
    "import seaborn as sns\n",
    "import matplotlib.pyplot as plt\n",
    "import spacy\n",
    "import pingouin as pg\n",
    "#nlp = spacy.load('en_core_web_md')\n",
    "from sklearn.decomposition import PCA\n",
    "from collections import Counter\n",
    "import scipy\n",
    "\n",
    "custom_style = {\n",
    "    \"axes.facecolor\": \"#343434\",\n",
    "    \"axes.edgecolor\": \"white\",\n",
    "    \"axes.labelcolor\": \"white\",\n",
    "    \"xtick.color\": \"white\",\n",
    "    \"ytick.color\": \"white\",\n",
    "    \"figure.facecolor\": \"#343434\",\n",
    "    \"grid.color\": \"none\",  # Remove gridlines\n",
    "    \"text.color\": \"white\",\n",
    "    \"lines.color\": \"white\",  # Default line color\n",
    "    \"lines.markeredgecolor\": \"white\",  # Default marker edge color\n",
    "    \"lines.markerfacecolor\": \"white\",  # Default marker face color\n",
    "}\n",
    "\n",
    "sns.set_style(\"whitegrid\", rc=custom_style)\n",
    "\n",
    "\n",
    "# Apply the custom style\n",
    "plt.rcParams.update(custom_style)\n"
   ]
  },
  {
   "cell_type": "markdown",
   "id": "4bb3cf3f-5dbb-47cc-b0d6-b5c26adc4f32",
   "metadata": {},
   "source": [
    "# Hypothesis testing\n",
    "\n",
    "## Core claim: If the purpose of counterfactual fabulation is to reduce anxiety by way of evidence hallucination in the service of entropy reduction, then this should be detectable in religious texts. Here, we will test this in relation to the four Gospels of the King James Bible.\n",
    "\n",
    "### Hypothesis 1: <i>The Gospels should have a more positive valence across encoding categories than English in general.</i>\n",
    "\n",
    ">If the Good News that we preach is hidden, it is hidden only to those who are lost. The devil who rules this world has blinded the minds of those who do not believe. They cannot see the light of the Good News—the Good News about the glory of Christ, who is exactly like God. (2 Corinthians 4)\n",
    "\n",
    "### Hypothesis 2: <i>The Gospels should have greater semantic size across encoding categories than English in general.</i>\n",
    "\n",
    ">Finally, brethren, whatsoever things are true, whatsoever things are honest, whatsoever things are just, whatsoever things are pure, whatsoever things are lovely, whatsoever things are of good report; if there be any virtue, and if there be any praise, think on these things. (Phillipians 4:8)"
   ]
  },
  {
   "cell_type": "code",
   "execution_count": 5,
   "id": "d05b1be3-1531-4215-b71f-27259a512aaa",
   "metadata": {},
   "outputs": [],
   "source": [
    "norms = pd.read_excel(\"sensorimotor.xlsx\", index_col = 0)"
   ]
  },
  {
   "cell_type": "markdown",
   "id": "860bb584-66a9-457c-86fe-0d234fea881a",
   "metadata": {
    "jp-MarkdownHeadingCollapsed": true
   },
   "source": [
    "## Question: <i>How can we encode a model of the world when the states of the world are computationally intractable</i>?\n",
    "\n",
    "> It seems probable ... that species possessing some remarkable characteristics, say, of shape, colour, or smell give the observer what might be called a 'right pending disproof' to postulate that these visible characteristics are the sign of equally singular but concealed properties ... This science of the concrete was necessarily restricted by its essence to results other than those destined to be acheived by the exact natural sciences but was no less scientific and its results were no less genuine. They were secured ten thousand years earlier and still remain at the basis of our own civilization. (10-11)\n",
    "\n",
    "–– Lévi-Strauss, C. (1968). The logic of the concrete. In <i>The savage mind</i> (pp. 1-22). University of Chicago Press. \n",
    "\n"
   ]
  },
  {
   "cell_type": "markdown",
   "id": "a9be049d-57f3-4293-aaba-aa4b89144da0",
   "metadata": {},
   "source": [
    "## Word norms for two English words\n",
    "\n",
    "![](radar_plot.png)\n"
   ]
  },
  {
   "cell_type": "code",
   "execution_count": 6,
   "id": "21d2b4e0-d2de-47f3-8409-da438ca643c0",
   "metadata": {},
   "outputs": [],
   "source": [
    "norms = norms[['auditory', 'gustatory', 'haptic', 'interoceptive', 'olfactory',\n",
    "       'visual']]"
   ]
  },
  {
   "cell_type": "code",
   "execution_count": null,
   "id": "d1cfc233-998d-4545-8464-fbe074e97271",
   "metadata": {},
   "outputs": [],
   "source": [
    "sns.displot(norms['interoceptive'].dropna(), color='white', kind = 'kde')\n",
    "plt.axvline(x=norms['auditory'].median(), color='red', linestyle='--', linewidth=2)\n",
    "plt.title('Median split on interoception')"
   ]
  },
  {
   "cell_type": "markdown",
   "id": "7906bb7d-524b-4e9c-9580-d86435a7bd07",
   "metadata": {},
   "source": [
    "<div style=\"background-color: #343434; color: white; padding: 10px; border-radius: 5px;\">\n",
    "    \n",
    "## Discretizing of six sensory modalities based on median split\n",
    "$$\n",
    "\\huge\n",
    "\\begin{bmatrix}\n",
    "1 \\\\\n",
    "0\n",
    "\\end{bmatrix}\n",
    "\\times\n",
    "\\begin{bmatrix}\n",
    "1 \\\\\n",
    "0\n",
    "\\end{bmatrix}\n",
    "\\times\n",
    "\\begin{bmatrix}\n",
    "1 \\\\\n",
    "0\n",
    "\\end{bmatrix}\n",
    "\\times\n",
    "\\begin{bmatrix}\n",
    "1 \\\\\n",
    "0\n",
    "\\end{bmatrix}\n",
    "\\times\n",
    "\\begin{bmatrix}\n",
    "1 \\\\\n",
    "0\n",
    "\\end{bmatrix}\n",
    "\\times\n",
    "\\begin{bmatrix}\n",
    "1 \\\\\n",
    "0\n",
    "\\end{bmatrix} = 2^6 = \\text{64 sensory states}\n",
    "$$\n",
    "\n",
    "    \n",
    "</div>"
   ]
  },
  {
   "cell_type": "code",
   "execution_count": 8,
   "id": "e5c8754a-607b-4667-a989-806bffbe86c6",
   "metadata": {},
   "outputs": [],
   "source": [
    "from itertools import product\n",
    "\n",
    "states = list(product([0, 1], repeat=6))\n",
    "states = [tuple(state) for state in states]"
   ]
  },
  {
   "cell_type": "code",
   "execution_count": null,
   "id": "6e159911-16ed-42b1-9383-95b78b9c180e",
   "metadata": {},
   "outputs": [],
   "source": [
    "states"
   ]
  },
  {
   "cell_type": "markdown",
   "id": "fe45fdef-8ca7-4abf-aba2-9a4b22c67031",
   "metadata": {},
   "source": [
    "## 1. Encoding the world through sensory states in all English"
   ]
  },
  {
   "cell_type": "code",
   "execution_count": 10,
   "id": "1e04aafb-048d-4d25-840e-a5b4474a2c04",
   "metadata": {},
   "outputs": [],
   "source": [
    "english_words = pd.read_pickle('all_english_words.pkl')"
   ]
  },
  {
   "cell_type": "code",
   "execution_count": 11,
   "id": "9da5a409-81ca-4b74-b98d-6d68339beacb",
   "metadata": {},
   "outputs": [],
   "source": [
    "states_ = english_words['somatic_state'].value_counts()"
   ]
  },
  {
   "cell_type": "code",
   "execution_count": null,
   "id": "75d19243-70e2-48bd-861e-f5eb7833e207",
   "metadata": {},
   "outputs": [],
   "source": [
    "\n",
    "plt.figure(figsize=(14, 6))\n",
    "ax = sns.pointplot(x=states_.index, y=states_.values, join=False, color='white')\n",
    "plt.xticks(rotation=90)\n",
    "plt.title(\"Counts of 64 somatic states in English\")\n",
    "ax.spines['top'].set_visible(False)\n",
    "ax.spines['right'].set_visible(False)"
   ]
  },
  {
   "cell_type": "code",
   "execution_count": null,
   "id": "06a94210-43fb-4baa-844e-3b5bda8130f4",
   "metadata": {},
   "outputs": [],
   "source": [
    "names = [i for i in states_.index]\n",
    "names"
   ]
  },
  {
   "cell_type": "code",
   "execution_count": 15,
   "id": "7eca80fa-1d7a-4fb9-af9c-ba77fd4a2f61",
   "metadata": {},
   "outputs": [],
   "source": [
    "ex = [i for i in english_words[english_words['somatic_state'] == 'ex']['word']]"
   ]
  },
  {
   "cell_type": "code",
   "execution_count": null,
   "id": "0659c107-032f-4ce4-adc3-321bfb62acca",
   "metadata": {},
   "outputs": [],
   "source": [
    "english_words"
   ]
  },
  {
   "cell_type": "code",
   "execution_count": null,
   "id": "9b66c426-f972-440a-8bbf-2e3bc0bf4e6b",
   "metadata": {
    "scrolled": true
   },
   "outputs": [],
   "source": [
    "fig = px.scatter_3d(english_words, x='PC1', y='PC2', z='PC3',\n",
    "              color='somatic_state', hover_data = ['word'])\n",
    "\n",
    "fig.update_traces(marker=dict(size = 4, line=dict(width=0.01,\n",
    "                                        color='DarkSlateGrey')),\n",
    "                  selector=dict(mode='markers'))\n",
    "\n",
    "\n",
    "fig.update_layout(\n",
    "    title='3D projection of English words into perceptual space by category',\n",
    "    scene=dict(\n",
    "        xaxis=dict(backgroundcolor=\"#343434\"),\n",
    "        yaxis=dict(backgroundcolor=\"#343434\"),\n",
    "        zaxis=dict(backgroundcolor=\"#343434\"),\n",
    "    ),\n",
    "    paper_bgcolor=\"#343434\",\n",
    "    plot_bgcolor=\"#343434\",\n",
    "    font=dict(color='white'),\n",
    "    legend=dict(\n",
    "        font=dict(size=18, color='white')\n",
    "    )\n",
    ")\n",
    "\n",
    "\n",
    "fig.show()\n",
    "#fig.write_html(\"/Users/james/Documents/IGEL/English_PCA.html\")\n"
   ]
  },
  {
   "cell_type": "markdown",
   "id": "51a7f101-f93b-48d8-af5d-9cd90aed99d7",
   "metadata": {},
   "source": [
    "[3D projection of English words into perceptual space by category](https://texturejc.github.io/IGEL/English_PCA.html)"
   ]
  },
  {
   "cell_type": "code",
   "execution_count": null,
   "id": "33cef51a-fa68-4a88-a3b6-30922576a779",
   "metadata": {},
   "outputs": [],
   "source": [
    "variable = 'semantic_size'\n",
    "\n",
    "mean_values = english_words.groupby('somatic_state')[variable].mean()\n",
    "\n",
    "# Sort categories by the mean value\n",
    "sorted_categories = mean_values.sort_values().index\n",
    "\n",
    "plt.figure(figsize=(14, 6))\n",
    "ax = sns.pointplot(x='somatic_state', y= variable, join=False, order=sorted_categories, data = english_words, color='white')\n",
    "plt.xticks(rotation=90)\n",
    "plt.title(variable+\" \"+\"of 64 somatic states in English\")\n",
    "ax.spines['top'].set_visible(False)\n",
    "ax.spines['right'].set_visible(False)"
   ]
  },
  {
   "cell_type": "code",
   "execution_count": null,
   "id": "0e8200ce-56c0-4706-988a-6e16d41b22d7",
   "metadata": {},
   "outputs": [],
   "source": [
    "english_words"
   ]
  },
  {
   "cell_type": "code",
   "execution_count": 22,
   "id": "7f2e4bbd-ae5e-4bd9-825f-c34a798dd07f",
   "metadata": {},
   "outputs": [],
   "source": [
    "english_means = pd.read_pickle('all_means_english.pkl')"
   ]
  },
  {
   "cell_type": "code",
   "execution_count": null,
   "id": "43a7319c-d4e0-4246-ab91-c2e6de92878b",
   "metadata": {},
   "outputs": [],
   "source": [
    "english_means"
   ]
  },
  {
   "cell_type": "code",
   "execution_count": null,
   "id": "f29ed1fa-e018-4eb9-b9ed-9c14ebb5bf50",
   "metadata": {},
   "outputs": [],
   "source": [
    "fig = px.scatter(english_means, x='valence', y='semantic_size', \n",
    "                 size='proportion',  \n",
    "                 hover_data=['somatic_state'])\n",
    "\n",
    "\n",
    "fig.update_traces(marker=dict(color='white', line=dict(width=0.01, color='DarkSlateGrey')),\n",
    "                  selector=dict(mode='markers'))\n",
    "\n",
    "\n",
    "fig.update_layout(\n",
    "    title='Somatic categories scaled by frequency in terms of valence and semantic size for all of English',\n",
    "    paper_bgcolor=\"#343434\",  \n",
    "    plot_bgcolor=\"#343434\",   \n",
    "    font=dict(color='white'), \n",
    "    xaxis=dict(showgrid=True),  \n",
    "    yaxis=dict(showgrid=True)   \n",
    ")\n",
    "\n",
    "fig.show()\n",
    "\n",
    "#fig.write_html(\"/Users/james/Documents/IGEL/English_valence_ss.html\")"
   ]
  },
  {
   "cell_type": "markdown",
   "id": "e1560ad2-97ed-436c-86fc-4e67d8f6fce0",
   "metadata": {},
   "source": [
    "## 2. The Gospels and English as a whole"
   ]
  },
  {
   "cell_type": "code",
   "execution_count": 44,
   "id": "97b2ddac-1e83-48f0-a715-2182220e7f7e",
   "metadata": {},
   "outputs": [],
   "source": [
    "gospel_words = pd.read_pickle(\"all_words_gospel.pkl\")"
   ]
  },
  {
   "cell_type": "code",
   "execution_count": 113,
   "id": "549ef740-dfe0-4a73-a403-8a510b585972",
   "metadata": {},
   "outputs": [
    {
     "name": "stderr",
     "output_type": "stream",
     "text": [
      "/Users/james/opt/anaconda3/envs/NLP/lib/python3.9/site-packages/seaborn/algorithms.py:98: RuntimeWarning:\n",
      "\n",
      "Mean of empty slice\n",
      "\n"
     ]
    },
    {
     "data": {
      "image/png": "[encoded data removed]",
      "text/plain": [
       "<Figure size 1400x600 with 1 Axes>"
      ]
     },
     "metadata": {},
     "output_type": "display_data"
    }
   ],
   "source": [
    "variable = 'valence'\n",
    "\n",
    "mean_values = gospel_words.groupby('somatic_state')[variable].mean()\n",
    "\n",
    "# Sort categories by the mean value\n",
    "sorted_categories = mean_values.sort_values().index\n",
    "\n",
    "plt.figure(figsize=(14, 6))\n",
    "ax = sns.pointplot(x='somatic_state', y= variable, join=False, order=sorted_categories, data = gospel_words, color='white')\n",
    "plt.xticks(rotation=90)\n",
    "plt.title(variable+\" \"+\"of 64 somatic states in the Gospels\")\n",
    "ax.spines['top'].set_visible(False)\n",
    "ax.spines['right'].set_visible(False)"
   ]
  },
  {
   "cell_type": "code",
   "execution_count": 48,
   "id": "231de055-140d-4570-acc6-a407a1fbf1f6",
   "metadata": {},
   "outputs": [],
   "source": [
    "gospel_means = pd.read_pickle(\"/Users/james/Documents/IGEL/all_data_means_gospel.pkl\")"
   ]
  },
  {
   "cell_type": "code",
   "execution_count": 50,
   "id": "bfa8a40c-347c-4d73-aba8-9f75327e1ce7",
   "metadata": {},
   "outputs": [],
   "source": [
    "gospel_means = gospel_means[gospel_means['source'] == 'Gospels'].reset_index(drop = True)"
   ]
  },
  {
   "cell_type": "code",
   "execution_count": 52,
   "id": "18a5f03b-0b23-4072-85e9-e28287255150",
   "metadata": {},
   "outputs": [],
   "source": [
    "all_means = pd.concat([english_means, gospel_means]).reset_index(drop = True)"
   ]
  },
  {
   "cell_type": "code",
   "execution_count": 111,
   "id": "5537a1bf-b79d-4691-b1ac-004ce5c90b37",
   "metadata": {},
   "outputs": [
    {
     "data": {
      "application/vnd.plotly.v1+json": {
       "config": {
        "plotlyServerURL": "https://plot.ly"
       },
       "data": [
        {
         "customdata": [
          [
           "a"
          ],
          [
           "aliquam"
          ],
          [
           "amet"
          ],
          [
           "at"
          ],
          [
           "atque"
          ],
          [
           "aut"
          ],
          [
           "autem"
          ],
          [
           "beatae"
          ],
          [
           "blanditiis"
          ],
          [
           "commodi"
          ],
          [
           "consequuntur"
          ],
          [
           "corporis"
          ],
          [
           "culpa"
          ],
          [
           "cumque"
          ],
          [
           "deleniti"
          ],
          [
           "dolore"
          ],
          [
           "doloribus"
          ],
          [
           "earum"
          ],
          [
           "enim"
          ],
          [
           "est"
          ],
          [
           "et"
          ],
          [
           "eveniet"
          ],
          [
           "ex"
          ],
          [
           "expedita"
          ],
          [
           "facere"
          ],
          [
           "fuga"
          ],
          [
           "fugit"
          ],
          [
           "hic"
          ],
          [
           "in"
          ],
          [
           "inventore"
          ],
          [
           "iste"
          ],
          [
           "iure"
          ],
          [
           "labore"
          ],
          [
           "magni"
          ],
          [
           "maiores"
          ],
          [
           "modi"
          ],
          [
           "molestiae"
          ],
          [
           "nam"
          ],
          [
           "natus"
          ],
          [
           "nemo"
          ],
          [
           "nihil"
          ],
          [
           "officia"
          ],
          [
           "officiis"
          ],
          [
           "pariatur"
          ],
          [
           "perspiciatis"
          ],
          [
           "possimus"
          ],
          [
           "quas"
          ],
          [
           "quia"
          ],
          [
           "quod"
          ],
          [
           "recusandae"
          ],
          [
           "reprehenderit"
          ],
          [
           "repudiandae"
          ],
          [
           "rerum"
          ],
          [
           "saepe"
          ],
          [
           "sapiente"
          ],
          [
           "soluta"
          ],
          [
           "temporibus"
          ],
          [
           "vel"
          ],
          [
           "velit"
          ],
          [
           "veniam"
          ],
          [
           "vero"
          ],
          [
           "vitae"
          ],
          [
           "voluptatem"
          ],
          [
           "voluptatum"
          ]
         ],
         "hovertemplate": "source=All English<br>valence=%{x}<br>semantic_size=%{y}<br>proportion=%{marker.size}<br>somatic_state=%{customdata[0]}<extra></extra>",
         "legendgroup": "All English",
         "marker": {
          "color": "#636efa",
          "line": {
           "color": "DarkSlateGrey",
           "width": 0.01
          },
          "size": [
           0.0046087591608532505,
           0.003928778301055229,
           0.02928954592389251,
           0.02777847734656358,
           0.0040547006824993076,
           0.025612612385725438,
           0.03394867403732339,
           0.004709497066008512,
           0.007479789457778226,
           0.030019895736268166,
           0.04510539703326869,
           0.0318583625053517,
           0.008915304606240713,
           0.009066411463973606,
           0.018586143501145895,
           0.009242702797995316,
           0.010426373183569648,
           0.006321303548492709,
           0.05538066335910545,
           0.05996423804366988,
           0.005742060593849951,
           0.02828216687233989,
           0.0069509154557130986,
           0.013095927670184098,
           0.046364620847709474,
           0.002191049437126955,
           0.015387715012466316,
           0.01589140453824263,
           0.03336943108268064,
           0.004130254111365754,
           0.0055154003072506105,
           0.004482836779409172,
           0.005263555544362455,
           0.0499660009570101,
           0.012844082907295943,
           0.013121112146472914,
           0.008336061651597955,
           0.0012088548618631476,
           0.001888835721661168,
           0.015362530536177501,
           0.0265192535321228,
           0.0067746241216913895,
           0.004633943637142065,
           0.0014606996247513032,
           0.004583574684564435,
           0.0016873599113506434,
           0.0051628176392071925,
           0.019820182839297856,
           0.01694915254237288,
           0.010879693756768328,
           0.005263555544362455,
           0.02742589467852016,
           0.004331729921676279,
           0.016747676732062358,
           0.0643463369179238,
           0.0036265645855894425,
           0.0069509154557130986,
           0.003374719822701287,
           0.00682499307426902,
           0.019089833026922205,
           0.004482836779409172,
           0.015060316820711713,
           0.003979147253632861,
           0.004331729921676279
          ],
          "sizemode": "area",
          "sizeref": 0.00021490335707019328,
          "symbol": "circle"
         },
         "mode": "markers",
         "name": "All English",
         "orientation": "v",
         "showlegend": true,
         "type": "scatter",
         "x": [
          0.4861221393101088,
          0.49084818748564557,
          0.5027981931784691,
          0.5172712632412773,
          0.49745348209426515,
          0.49436752375276727,
          0.5082313955986294,
          0.5165320809828032,
          0.44875716512578395,
          0.5091952455360034,
          0.4770005101455557,
          0.49394356255375205,
          0.4838731309375026,
          0.46564694761319925,
          0.45934579606368164,
          0.48040855133787114,
          0.514726726214091,
          0.4836435724545076,
          0.5131808907429432,
          0.5288048043113653,
          0.5026128765296292,
          0.5226900231809741,
          0.4729982437314214,
          0.49911502801602886,
          0.5218797190177432,
          0.4737036593680112,
          0.5035660922666252,
          0.45318573736168843,
          0.47551556951755464,
          0.4829937360619986,
          0.4793619040180655,
          0.5124686940720207,
          0.48970243356057575,
          0.4729333298071154,
          0.48267025038273664,
          0.5085696721627767,
          0.5158571032590644,
          0.5065905097872019,
          0.47617756758096086,
          0.5098852849367893,
          0.5122072971509603,
          0.4651580815051877,
          0.45203352501759164,
          0.4819373403276716,
          0.5010613653548929,
          0.4865573133741106,
          0.4621692832845908,
          0.47250423812169373,
          0.4819386967848906,
          0.4863910595491781,
          0.4959042429501283,
          0.4833911709498778,
          0.47918842142482976,
          0.47858904703305316,
          0.4620973891707715,
          0.4698741103725872,
          0.5089044535982198,
          0.5152969055397566,
          0.48059102140584037,
          0.5118759955999986,
          0.4646869884417938,
          0.5094056521079049,
          0.4911210340612075,
          0.476022035587491
         ],
         "xaxis": "x",
         "y": [
          0.5039922221926333,
          0.45905812482895525,
          0.47542721035171687,
          0.42704465278055115,
          0.42150610571815855,
          0.5064224631398514,
          0.5318210937628716,
          0.46301379430731504,
          0.5415034449191263,
          0.4301535433035821,
          0.497321772016941,
          0.49810514638998676,
          0.5208193698154499,
          0.5182637303840113,
          0.5462812580237879,
          0.49953231633977685,
          0.5160413844543591,
          0.49653861503725105,
          0.4105627764547109,
          0.394630943303134,
          0.46939621765065837,
          0.4684684529028201,
          0.4680562716078114,
          0.4791339650269478,
          0.5428564960164969,
          0.5001834352623742,
          0.45157481563258006,
          0.45878082601463094,
          0.5274012873396077,
          0.5094891400426946,
          0.5504035565977782,
          0.42029253850903425,
          0.4341989517211914,
          0.5336562865761919,
          0.41328497948872783,
          0.4974167196959159,
          0.47987545576206475,
          0.4512011790648103,
          0.5093937094481487,
          0.40926583152336193,
          0.47032787394291625,
          0.49848568768695345,
          0.571822150853964,
          0.4812131282829103,
          0.5120173212169676,
          0.5235377571412495,
          0.4701872475636311,
          0.5334771937206543,
          0.43921721239626665,
          0.5309557806763608,
          0.5158376135724656,
          0.515287329980046,
          0.5062991968303356,
          0.5521194206343757,
          0.5384286568385412,
          0.47509946151711474,
          0.506050318479538,
          0.5217360356865928,
          0.538852015889964,
          0.47594992945779047,
          0.5394792086906262,
          0.3969504484279671,
          0.43693540622206295,
          0.5021673923167657
         ],
         "yaxis": "y"
        },
        {
         "customdata": [
          [
           "a"
          ],
          [
           "aliquam"
          ],
          [
           "amet"
          ],
          [
           "at"
          ],
          [
           "atque"
          ],
          [
           "aut"
          ],
          [
           "autem"
          ],
          [
           "beatae"
          ],
          [
           "blanditiis"
          ],
          [
           "commodi"
          ],
          [
           "consequuntur"
          ],
          [
           "corporis"
          ],
          [
           "culpa"
          ],
          [
           "cumque"
          ],
          [
           "deleniti"
          ],
          [
           "dolore"
          ],
          [
           "doloribus"
          ],
          [
           "earum"
          ],
          [
           "enim"
          ],
          [
           "est"
          ],
          [
           "et"
          ],
          [
           "eveniet"
          ],
          [
           "ex"
          ],
          [
           "expedita"
          ],
          [
           "facere"
          ],
          [
           "fuga"
          ],
          [
           "fugit"
          ],
          [
           "hic"
          ],
          [
           "in"
          ],
          [
           "inventore"
          ],
          [
           "iste"
          ],
          [
           "iure"
          ],
          [
           "labore"
          ],
          [
           "magni"
          ],
          [
           "maiores"
          ],
          [
           "modi"
          ],
          [
           "molestiae"
          ],
          [
           "nam"
          ],
          [
           "natus"
          ],
          [
           "nemo"
          ],
          [
           "nihil"
          ],
          [
           "officia"
          ],
          [
           "officiis"
          ],
          [
           "pariatur"
          ],
          [
           "perspiciatis"
          ],
          [
           "possimus"
          ],
          [
           "quas"
          ],
          [
           "quia"
          ],
          [
           "quod"
          ],
          [
           "recusandae"
          ],
          [
           "reprehenderit"
          ],
          [
           "repudiandae"
          ],
          [
           "rerum"
          ],
          [
           "saepe"
          ],
          [
           "sapiente"
          ],
          [
           "soluta"
          ],
          [
           "temporibus"
          ],
          [
           "vel"
          ],
          [
           "velit"
          ],
          [
           "veniam"
          ],
          [
           "vero"
          ],
          [
           "vitae"
          ],
          [
           "voluptatem"
          ],
          [
           "voluptatum"
          ]
         ],
         "hovertemplate": "source=Gospels<br>valence=%{x}<br>semantic_size=%{y}<br>proportion=%{marker.size}<br>somatic_state=%{customdata[0]}<extra></extra>",
         "legendgroup": "Gospels",
         "marker": {
          "color": "#EF553B",
          "line": {
           "color": "DarkSlateGrey",
           "width": 0.01
          },
          "size": [
           0.005595116988809766,
           0.003560528992878942,
           0.025940996948118005,
           0.0340793489318413,
           0.002034587995930824,
           0.02187182095625636,
           0.04577822990844354,
           0.002034587995930824,
           0.00508646998982706,
           0.04781281790437437,
           0.03611393692777213,
           0.015259409969481181,
           0.010681586978636826,
           0.010681586978636826,
           0.015768056968463885,
           0.006103763987792472,
           0.008138351983723296,
           0.006103763987792472,
           0.04425228891149542,
           0.0595116988809766,
           0.00508646998982706,
           0.039165818921668365,
           0.006612410986775178,
           0.0076297049847405905,
           0.08596134282807731,
           0.002034587995930824,
           0.013224821973550356,
           0.01271617497456765,
           0.0254323499491353,
           0.001525940996948118,
           0.00508646998982706,
           0.002034587995930824,
           0.006612410986775178,
           0.05035605289928789,
           0.0076297049847405905,
           0.011698880976602238,
           0.004069175991861648,
           0.002034587995930824,
           0.004577822990844354,
           0.008138351983723296,
           0.018311291963377416,
           0.006612410986775178,
           0.004069175991861648,
           0.002034587995930824,
           0.004577822990844354,
           0.002034587995930824,
           0.008138351983723296,
           0.02034587995930824,
           0.023906408952187184,
           0.008646998982706003,
           0.003560528992878942,
           0.03306205493387589,
           0.004069175991861648,
           0.017293997965412006,
           0.07171922685656154,
           0.004069175991861648,
           0.003051881993896236,
           0.006103763987792472,
           0.011698880976602238,
           0.014750762970498474,
           0.004069175991861648,
           0.011698880976602238,
           0.003051881993896236,
           0.00508646998982706
          ],
          "sizemode": "area",
          "sizeref": 0.00021490335707019328,
          "symbol": "circle"
         },
         "mode": "markers",
         "name": "Gospels",
         "orientation": "v",
         "showlegend": true,
         "type": "scatter",
         "x": [
          0.5452647290446542,
          0.45282950145857676,
          0.557614750137516,
          0.5559011301887569,
          0.5687270835042,
          0.5284344311370406,
          0.5522160421718251,
          0.7126795798540115,
          0.4052290886640549,
          0.5516169449334504,
          0.5401042248521533,
          0.5490924064759855,
          0.5103043771925426,
          0.4338290152095613,
          0.4666483441988627,
          0.5163436606526375,
          0.5387819223105907,
          0.499757061402003,
          0.5549508270829223,
          0.5740635506484819,
          0.5628531873226166,
          0.5567362751615675,
          0.6290149780420157,
          0.5231466670831044,
          0.5760625219909397,
          0.5908214300870895,
          0.530593991279602,
          0.5142774530079054,
          0.5340468920007044,
          0.5627118448416392,
          0.5090818732976914,
          0.6096140742301941,
          0.5125110195233271,
          0.5373368091189984,
          0.5465629356248038,
          0.5349138366139453,
          0.5666391402482986,
          0.46299569805463153,
          0.47465471426645917,
          0.5846423367659251,
          0.5933409631252289,
          0.4567049008149367,
          0.477538850158453,
          0.5930872410535812,
          0.5841740336683061,
          0.49177540838718414,
          0.4556635431945324,
          0.5292454942678794,
          0.525632720278657,
          0.5623663926825804,
          0.5160946448644003,
          0.5226333182591658,
          0.5177231878042221,
          0.5237183518269483,
          0.501919942668506,
          0.44625209644436836,
          0.5831684122482935,
          0.5533026779691378,
          0.5156651411367499,
          0.5470099438881052,
          0.47246819734573364,
          0.5097134553867838,
          0.5595354487498602,
          0.5238572001457215
         ],
         "xaxis": "x",
         "y": [
          0.5895705656571821,
          0.5382799591336932,
          0.5306753516197205,
          0.46700503710490554,
          0.45406512916088104,
          0.5292921516784402,
          0.56331978128715,
          0.44566743820905685,
          0.5993315547704696,
          0.4270970050686149,
          0.529401957988739,
          0.548496033306475,
          0.5604907685802096,
          0.525431615965707,
          0.5992799351612726,
          0.5135121991237005,
          0.5519595369696617,
          0.5640762324134508,
          0.43597790079061377,
          0.41299652975538503,
          0.5741284721427493,
          0.488655522269638,
          0.5603877558157995,
          0.4924742003281911,
          0.5822736585633994,
          0.6067099720239639,
          0.47228759871079373,
          0.4580480300861856,
          0.5756167197714046,
          0.6816581686337789,
          0.6114473640918732,
          0.4892183095216751,
          0.4317439863314995,
          0.5720138039785562,
          0.3977066789354597,
          0.5440844563038453,
          0.49715474620461464,
          0.5789719223976135,
          0.583951496415668,
          0.4716994126637777,
          0.5584851564729915,
          0.5079385821635907,
          0.6170901730656624,
          0.5173503383994102,
          0.5750958455933465,
          0.5776025056838989,
          0.4998258464038372,
          0.5882589732989286,
          0.4913244134058123,
          0.5663740231710321,
          0.6114799976348877,
          0.5450418050472553,
          0.5472707934677601,
          0.6253838433938868,
          0.578526294018541,
          0.5459902659058571,
          0.563106988867124,
          0.5388556843002638,
          0.5698506041713383,
          0.5428069490810921,
          0.5014906355312893,
          0.40412002154018567,
          0.5047780026992162,
          0.5584553748369216
         ],
         "yaxis": "y"
        }
       ],
       "layout": {
        "autosize": true,
        "font": {
         "color": "white"
        },
        "legend": {
         "itemsizing": "constant",
         "title": {
          "text": "source"
         },
         "tracegroupgap": 0
        },
        "margin": {
         "t": 60
        },
        "paper_bgcolor": "#343434",
        "plot_bgcolor": "#343434",
        "template": {
         "data": {
          "bar": [
           {
            "error_x": {
             "color": "#2a3f5f"
            },
            "error_y": {
             "color": "#2a3f5f"
            },
            "marker": {
             "line": {
              "color": "#E5ECF6",
              "width": 0.5
             },
             "pattern": {
              "fillmode": "overlay",
              "size": 10,
              "solidity": 0.2
             }
            },
            "type": "bar"
           }
          ],
          "barpolar": [
           {
            "marker": {
             "line": {
              "color": "#E5ECF6",
              "width": 0.5
             },
             "pattern": {
              "fillmode": "overlay",
              "size": 10,
              "solidity": 0.2
             }
            },
            "type": "barpolar"
           }
          ],
          "carpet": [
           {
            "aaxis": {
             "endlinecolor": "#2a3f5f",
             "gridcolor": "white",
             "linecolor": "white",
             "minorgridcolor": "white",
             "startlinecolor": "#2a3f5f"
            },
            "baxis": {
             "endlinecolor": "#2a3f5f",
             "gridcolor": "white",
             "linecolor": "white",
             "minorgridcolor": "white",
             "startlinecolor": "#2a3f5f"
            },
            "type": "carpet"
           }
          ],
          "choropleth": [
           {
            "colorbar": {
             "outlinewidth": 0,
             "ticks": ""
            },
            "type": "choropleth"
           }
          ],
          "contour": [
           {
            "colorbar": {
             "outlinewidth": 0,
             "ticks": ""
            },
            "colorscale": [
             [
              0,
              "#0d0887"
             ],
             [
              0.1111111111111111,
              "#46039f"
             ],
             [
              0.2222222222222222,
              "#7201a8"
             ],
             [
              0.3333333333333333,
              "#9c179e"
             ],
             [
              0.4444444444444444,
              "#bd3786"
             ],
             [
              0.5555555555555556,
              "#d8576b"
             ],
             [
              0.6666666666666666,
              "#ed7953"
             ],
             [
              0.7777777777777778,
              "#fb9f3a"
             ],
             [
              0.8888888888888888,
              "#fdca26"
             ],
             [
              1,
              "#f0f921"
             ]
            ],
            "type": "contour"
           }
          ],
          "contourcarpet": [
           {
            "colorbar": {
             "outlinewidth": 0,
             "ticks": ""
            },
            "type": "contourcarpet"
           }
          ],
          "heatmap": [
           {
            "colorbar": {
             "outlinewidth": 0,
             "ticks": ""
            },
            "colorscale": [
             [
              0,
              "#0d0887"
             ],
             [
              0.1111111111111111,
              "#46039f"
             ],
             [
              0.2222222222222222,
              "#7201a8"
             ],
             [
              0.3333333333333333,
              "#9c179e"
             ],
             [
              0.4444444444444444,
              "#bd3786"
             ],
             [
              0.5555555555555556,
              "#d8576b"
             ],
             [
              0.6666666666666666,
              "#ed7953"
             ],
             [
              0.7777777777777778,
              "#fb9f3a"
             ],
             [
              0.8888888888888888,
              "#fdca26"
             ],
             [
              1,
              "#f0f921"
             ]
            ],
            "type": "heatmap"
           }
          ],
          "heatmapgl": [
           {
            "colorbar": {
             "outlinewidth": 0,
             "ticks": ""
            },
            "colorscale": [
             [
              0,
              "#0d0887"
             ],
             [
              0.1111111111111111,
              "#46039f"
             ],
             [
              0.2222222222222222,
              "#7201a8"
             ],
             [
              0.3333333333333333,
              "#9c179e"
             ],
             [
              0.4444444444444444,
              "#bd3786"
             ],
             [
              0.5555555555555556,
              "#d8576b"
             ],
             [
              0.6666666666666666,
              "#ed7953"
             ],
             [
              0.7777777777777778,
              "#fb9f3a"
             ],
             [
              0.8888888888888888,
              "#fdca26"
             ],
             [
              1,
              "#f0f921"
             ]
            ],
            "type": "heatmapgl"
           }
          ],
          "histogram": [
           {
            "marker": {
             "pattern": {
              "fillmode": "overlay",
              "size": 10,
              "solidity": 0.2
             }
            },
            "type": "histogram"
           }
          ],
          "histogram2d": [
           {
            "colorbar": {
             "outlinewidth": 0,
             "ticks": ""
            },
            "colorscale": [
             [
              0,
              "#0d0887"
             ],
             [
              0.1111111111111111,
              "#46039f"
             ],
             [
              0.2222222222222222,
              "#7201a8"
             ],
             [
              0.3333333333333333,
              "#9c179e"
             ],
             [
              0.4444444444444444,
              "#bd3786"
             ],
             [
              0.5555555555555556,
              "#d8576b"
             ],
             [
              0.6666666666666666,
              "#ed7953"
             ],
             [
              0.7777777777777778,
              "#fb9f3a"
             ],
             [
              0.8888888888888888,
              "#fdca26"
             ],
             [
              1,
              "#f0f921"
             ]
            ],
            "type": "histogram2d"
           }
          ],
          "histogram2dcontour": [
           {
            "colorbar": {
             "outlinewidth": 0,
             "ticks": ""
            },
            "colorscale": [
             [
              0,
              "#0d0887"
             ],
             [
              0.1111111111111111,
              "#46039f"
             ],
             [
              0.2222222222222222,
              "#7201a8"
             ],
             [
              0.3333333333333333,
              "#9c179e"
             ],
             [
              0.4444444444444444,
              "#bd3786"
             ],
             [
              0.5555555555555556,
              "#d8576b"
             ],
             [
              0.6666666666666666,
              "#ed7953"
             ],
             [
              0.7777777777777778,
              "#fb9f3a"
             ],
             [
              0.8888888888888888,
              "#fdca26"
             ],
             [
              1,
              "#f0f921"
             ]
            ],
            "type": "histogram2dcontour"
           }
          ],
          "mesh3d": [
           {
            "colorbar": {
             "outlinewidth": 0,
             "ticks": ""
            },
            "type": "mesh3d"
           }
          ],
          "parcoords": [
           {
            "line": {
             "colorbar": {
              "outlinewidth": 0,
              "ticks": ""
             }
            },
            "type": "parcoords"
           }
          ],
          "pie": [
           {
            "automargin": true,
            "type": "pie"
           }
          ],
          "scatter": [
           {
            "fillpattern": {
             "fillmode": "overlay",
             "size": 10,
             "solidity": 0.2
            },
            "type": "scatter"
           }
          ],
          "scatter3d": [
           {
            "line": {
             "colorbar": {
              "outlinewidth": 0,
              "ticks": ""
             }
            },
            "marker": {
             "colorbar": {
              "outlinewidth": 0,
              "ticks": ""
             }
            },
            "type": "scatter3d"
           }
          ],
          "scattercarpet": [
           {
            "marker": {
             "colorbar": {
              "outlinewidth": 0,
              "ticks": ""
             }
            },
            "type": "scattercarpet"
           }
          ],
          "scattergeo": [
           {
            "marker": {
             "colorbar": {
              "outlinewidth": 0,
              "ticks": ""
             }
            },
            "type": "scattergeo"
           }
          ],
          "scattergl": [
           {
            "marker": {
             "colorbar": {
              "outlinewidth": 0,
              "ticks": ""
             }
            },
            "type": "scattergl"
           }
          ],
          "scattermapbox": [
           {
            "marker": {
             "colorbar": {
              "outlinewidth": 0,
              "ticks": ""
             }
            },
            "type": "scattermapbox"
           }
          ],
          "scatterpolar": [
           {
            "marker": {
             "colorbar": {
              "outlinewidth": 0,
              "ticks": ""
             }
            },
            "type": "scatterpolar"
           }
          ],
          "scatterpolargl": [
           {
            "marker": {
             "colorbar": {
              "outlinewidth": 0,
              "ticks": ""
             }
            },
            "type": "scatterpolargl"
           }
          ],
          "scatterternary": [
           {
            "marker": {
             "colorbar": {
              "outlinewidth": 0,
              "ticks": ""
             }
            },
            "type": "scatterternary"
           }
          ],
          "surface": [
           {
            "colorbar": {
             "outlinewidth": 0,
             "ticks": ""
            },
            "colorscale": [
             [
              0,
              "#0d0887"
             ],
             [
              0.1111111111111111,
              "#46039f"
             ],
             [
              0.2222222222222222,
              "#7201a8"
             ],
             [
              0.3333333333333333,
              "#9c179e"
             ],
             [
              0.4444444444444444,
              "#bd3786"
             ],
             [
              0.5555555555555556,
              "#d8576b"
             ],
             [
              0.6666666666666666,
              "#ed7953"
             ],
             [
              0.7777777777777778,
              "#fb9f3a"
             ],
             [
              0.8888888888888888,
              "#fdca26"
             ],
             [
              1,
              "#f0f921"
             ]
            ],
            "type": "surface"
           }
          ],
          "table": [
           {
            "cells": {
             "fill": {
              "color": "#EBF0F8"
             },
             "line": {
              "color": "white"
             }
            },
            "header": {
             "fill": {
              "color": "#C8D4E3"
             },
             "line": {
              "color": "white"
             }
            },
            "type": "table"
           }
          ]
         },
         "layout": {
          "annotationdefaults": {
           "arrowcolor": "#2a3f5f",
           "arrowhead": 0,
           "arrowwidth": 1
          },
          "autotypenumbers": "strict",
          "coloraxis": {
           "colorbar": {
            "outlinewidth": 0,
            "ticks": ""
           }
          },
          "colorscale": {
           "diverging": [
            [
             0,
             "#8e0152"
            ],
            [
             0.1,
             "#c51b7d"
            ],
            [
             0.2,
             "#de77ae"
            ],
            [
             0.3,
             "#f1b6da"
            ],
            [
             0.4,
             "#fde0ef"
            ],
            [
             0.5,
             "#f7f7f7"
            ],
            [
             0.6,
             "#e6f5d0"
            ],
            [
             0.7,
             "#b8e186"
            ],
            [
             0.8,
             "#7fbc41"
            ],
            [
             0.9,
             "#4d9221"
            ],
            [
             1,
             "#276419"
            ]
           ],
           "sequential": [
            [
             0,
             "#0d0887"
            ],
            [
             0.1111111111111111,
             "#46039f"
            ],
            [
             0.2222222222222222,
             "#7201a8"
            ],
            [
             0.3333333333333333,
             "#9c179e"
            ],
            [
             0.4444444444444444,
             "#bd3786"
            ],
            [
             0.5555555555555556,
             "#d8576b"
            ],
            [
             0.6666666666666666,
             "#ed7953"
            ],
            [
             0.7777777777777778,
             "#fb9f3a"
            ],
            [
             0.8888888888888888,
             "#fdca26"
            ],
            [
             1,
             "#f0f921"
            ]
           ],
           "sequentialminus": [
            [
             0,
             "#0d0887"
            ],
            [
             0.1111111111111111,
             "#46039f"
            ],
            [
             0.2222222222222222,
             "#7201a8"
            ],
            [
             0.3333333333333333,
             "#9c179e"
            ],
            [
             0.4444444444444444,
             "#bd3786"
            ],
            [
             0.5555555555555556,
             "#d8576b"
            ],
            [
             0.6666666666666666,
             "#ed7953"
            ],
            [
             0.7777777777777778,
             "#fb9f3a"
            ],
            [
             0.8888888888888888,
             "#fdca26"
            ],
            [
             1,
             "#f0f921"
            ]
           ]
          },
          "colorway": [
           "#636efa",
           "#EF553B",
           "#00cc96",
           "#ab63fa",
           "#FFA15A",
           "#19d3f3",
           "#FF6692",
           "#B6E880",
           "#FF97FF",
           "#FECB52"
          ],
          "font": {
           "color": "#2a3f5f"
          },
          "geo": {
           "bgcolor": "white",
           "lakecolor": "white",
           "landcolor": "#E5ECF6",
           "showlakes": true,
           "showland": true,
           "subunitcolor": "white"
          },
          "hoverlabel": {
           "align": "left"
          },
          "hovermode": "closest",
          "mapbox": {
           "style": "light"
          },
          "paper_bgcolor": "white",
          "plot_bgcolor": "#E5ECF6",
          "polar": {
           "angularaxis": {
            "gridcolor": "white",
            "linecolor": "white",
            "ticks": ""
           },
           "bgcolor": "#E5ECF6",
           "radialaxis": {
            "gridcolor": "white",
            "linecolor": "white",
            "ticks": ""
           }
          },
          "scene": {
           "xaxis": {
            "backgroundcolor": "#E5ECF6",
            "gridcolor": "white",
            "gridwidth": 2,
            "linecolor": "white",
            "showbackground": true,
            "ticks": "",
            "zerolinecolor": "white"
           },
           "yaxis": {
            "backgroundcolor": "#E5ECF6",
            "gridcolor": "white",
            "gridwidth": 2,
            "linecolor": "white",
            "showbackground": true,
            "ticks": "",
            "zerolinecolor": "white"
           },
           "zaxis": {
            "backgroundcolor": "#E5ECF6",
            "gridcolor": "white",
            "gridwidth": 2,
            "linecolor": "white",
            "showbackground": true,
            "ticks": "",
            "zerolinecolor": "white"
           }
          },
          "shapedefaults": {
           "line": {
            "color": "#2a3f5f"
           }
          },
          "ternary": {
           "aaxis": {
            "gridcolor": "white",
            "linecolor": "white",
            "ticks": ""
           },
           "baxis": {
            "gridcolor": "white",
            "linecolor": "white",
            "ticks": ""
           },
           "bgcolor": "#E5ECF6",
           "caxis": {
            "gridcolor": "white",
            "linecolor": "white",
            "ticks": ""
           }
          },
          "title": {
           "x": 0.05
          },
          "xaxis": {
           "automargin": true,
           "gridcolor": "white",
           "linecolor": "white",
           "ticks": "",
           "title": {
            "standoff": 15
           },
           "zerolinecolor": "white",
           "zerolinewidth": 2
          },
          "yaxis": {
           "automargin": true,
           "gridcolor": "white",
           "linecolor": "white",
           "ticks": "",
           "title": {
            "standoff": 15
           },
           "zerolinecolor": "white",
           "zerolinewidth": 2
          }
         }
        },
        "title": {
         "text": "Somatic categories scaled by frequency in terms of valence and semantic size for English and the Gospels"
        },
        "xaxis": {
         "anchor": "y",
         "autorange": true,
         "domain": [
          0,
          1
         ],
         "range": [
          0.3865305864223517,
          0.73105417103326
         ],
         "showgrid": true,
         "title": {
          "text": "valence"
         },
         "type": "linear"
        },
        "yaxis": {
         "anchor": "x",
         "autorange": true,
         "domain": [
          0,
          1
         ],
         "range": [
          0.35641343055519253,
          0.7037621799595081
         ],
         "showgrid": true,
         "title": {
          "text": "semantic_size"
         },
         "type": "linear"
        }
       }
      },
      "image/png": "[encoded data removed]",
      "text/html": [
       "<div>                            <div id=\"bbccbc71-d9f4-404c-8646-f5c40df3c35d\" class=\"plotly-graph-div\" style=\"height:525px; width:100%;\"></div>            <script type=\"text/javascript\">                require([\"plotly\"], function(Plotly) {                    window.PLOTLYENV=window.PLOTLYENV || {};                                    if (document.getElementById(\"bbccbc71-d9f4-404c-8646-f5c40df3c35d\")) {                    Plotly.newPlot(                        \"bbccbc71-d9f4-404c-8646-f5c40df3c35d\",                        [{\"customdata\":[[\"a\"],[\"aliquam\"],[\"amet\"],[\"at\"],[\"atque\"],[\"aut\"],[\"autem\"],[\"beatae\"],[\"blanditiis\"],[\"commodi\"],[\"consequuntur\"],[\"corporis\"],[\"culpa\"],[\"cumque\"],[\"deleniti\"],[\"dolore\"],[\"doloribus\"],[\"earum\"],[\"enim\"],[\"est\"],[\"et\"],[\"eveniet\"],[\"ex\"],[\"expedita\"],[\"facere\"],[\"fuga\"],[\"fugit\"],[\"hic\"],[\"in\"],[\"inventore\"],[\"iste\"],[\"iure\"],[\"labore\"],[\"magni\"],[\"maiores\"],[\"modi\"],[\"molestiae\"],[\"nam\"],[\"natus\"],[\"nemo\"],[\"nihil\"],[\"officia\"],[\"officiis\"],[\"pariatur\"],[\"perspiciatis\"],[\"possimus\"],[\"quas\"],[\"quia\"],[\"quod\"],[\"recusandae\"],[\"reprehenderit\"],[\"repudiandae\"],[\"rerum\"],[\"saepe\"],[\"sapiente\"],[\"soluta\"],[\"temporibus\"],[\"vel\"],[\"velit\"],[\"veniam\"],[\"vero\"],[\"vitae\"],[\"voluptatem\"],[\"voluptatum\"]],\"hovertemplate\":\"source=All English\\u003cbr\\u003evalence=%{x}\\u003cbr\\u003esemantic_size=%{y}\\u003cbr\\u003eproportion=%{marker.size}\\u003cbr\\u003esomatic_state=%{customdata[0]}\\u003cextra\\u003e\\u003c\\u002fextra\\u003e\",\"legendgroup\":\"All English\",\"marker\":{\"color\":\"#636efa\",\"size\":[0.0046087591608532505,0.003928778301055229,0.02928954592389251,0.02777847734656358,0.0040547006824993076,0.025612612385725438,0.03394867403732339,0.004709497066008512,0.007479789457778226,0.030019895736268166,0.04510539703326869,0.0318583625053517,0.008915304606240713,0.009066411463973606,0.018586143501145895,0.009242702797995316,0.010426373183569648,0.006321303548492709,0.05538066335910545,0.05996423804366988,0.005742060593849951,0.02828216687233989,0.0069509154557130986,0.013095927670184098,0.046364620847709474,0.002191049437126955,0.015387715012466316,0.01589140453824263,0.03336943108268064,0.004130254111365754,0.0055154003072506105,0.004482836779409172,0.005263555544362455,0.0499660009570101,0.012844082907295943,0.013121112146472914,0.008336061651597955,0.0012088548618631476,0.001888835721661168,0.015362530536177501,0.0265192535321228,0.0067746241216913895,0.004633943637142065,0.0014606996247513032,0.004583574684564435,0.0016873599113506434,0.0051628176392071925,0.019820182839297856,0.01694915254237288,0.010879693756768328,0.005263555544362455,0.02742589467852016,0.004331729921676279,0.016747676732062358,0.0643463369179238,0.0036265645855894425,0.0069509154557130986,0.003374719822701287,0.00682499307426902,0.019089833026922205,0.004482836779409172,0.015060316820711713,0.003979147253632861,0.004331729921676279],\"sizemode\":\"area\",\"sizeref\":0.00021490335707019328,\"symbol\":\"circle\",\"line\":{\"color\":\"DarkSlateGrey\",\"width\":0.01}},\"mode\":\"markers\",\"name\":\"All English\",\"orientation\":\"v\",\"showlegend\":true,\"x\":[0.4861221393101088,0.49084818748564557,0.5027981931784691,0.5172712632412773,0.49745348209426515,0.49436752375276727,0.5082313955986294,0.5165320809828032,0.44875716512578395,0.5091952455360034,0.4770005101455557,0.49394356255375205,0.4838731309375026,0.46564694761319925,0.45934579606368164,0.48040855133787114,0.514726726214091,0.4836435724545076,0.5131808907429432,0.5288048043113653,0.5026128765296292,0.5226900231809741,0.4729982437314214,0.49911502801602886,0.5218797190177432,0.4737036593680112,0.5035660922666252,0.45318573736168843,0.47551556951755464,0.4829937360619986,0.4793619040180655,0.5124686940720207,0.48970243356057575,0.4729333298071154,0.48267025038273664,0.5085696721627767,0.5158571032590644,0.5065905097872019,0.47617756758096086,0.5098852849367893,0.5122072971509603,0.4651580815051877,0.45203352501759164,0.4819373403276716,0.5010613653548929,0.4865573133741106,0.4621692832845908,0.47250423812169373,0.4819386967848906,0.4863910595491781,0.4959042429501283,0.4833911709498778,0.47918842142482976,0.47858904703305316,0.4620973891707715,0.4698741103725872,0.5089044535982198,0.5152969055397566,0.48059102140584037,0.5118759955999986,0.4646869884417938,0.5094056521079049,0.4911210340612075,0.476022035587491],\"xaxis\":\"x\",\"y\":[0.5039922221926333,0.45905812482895525,0.47542721035171687,0.42704465278055115,0.42150610571815855,0.5064224631398514,0.5318210937628716,0.46301379430731504,0.5415034449191263,0.4301535433035821,0.497321772016941,0.49810514638998676,0.5208193698154499,0.5182637303840113,0.5462812580237879,0.49953231633977685,0.5160413844543591,0.49653861503725105,0.4105627764547109,0.394630943303134,0.46939621765065837,0.4684684529028201,0.4680562716078114,0.4791339650269478,0.5428564960164969,0.5001834352623742,0.45157481563258006,0.45878082601463094,0.5274012873396077,0.5094891400426946,0.5504035565977782,0.42029253850903425,0.4341989517211914,0.5336562865761919,0.41328497948872783,0.4974167196959159,0.47987545576206475,0.4512011790648103,0.5093937094481487,0.40926583152336193,0.47032787394291625,0.49848568768695345,0.571822150853964,0.4812131282829103,0.5120173212169676,0.5235377571412495,0.4701872475636311,0.5334771937206543,0.43921721239626665,0.5309557806763608,0.5158376135724656,0.515287329980046,0.5062991968303356,0.5521194206343757,0.5384286568385412,0.47509946151711474,0.506050318479538,0.5217360356865928,0.538852015889964,0.47594992945779047,0.5394792086906262,0.3969504484279671,0.43693540622206295,0.5021673923167657],\"yaxis\":\"y\",\"type\":\"scatter\"},{\"customdata\":[[\"a\"],[\"aliquam\"],[\"amet\"],[\"at\"],[\"atque\"],[\"aut\"],[\"autem\"],[\"beatae\"],[\"blanditiis\"],[\"commodi\"],[\"consequuntur\"],[\"corporis\"],[\"culpa\"],[\"cumque\"],[\"deleniti\"],[\"dolore\"],[\"doloribus\"],[\"earum\"],[\"enim\"],[\"est\"],[\"et\"],[\"eveniet\"],[\"ex\"],[\"expedita\"],[\"facere\"],[\"fuga\"],[\"fugit\"],[\"hic\"],[\"in\"],[\"inventore\"],[\"iste\"],[\"iure\"],[\"labore\"],[\"magni\"],[\"maiores\"],[\"modi\"],[\"molestiae\"],[\"nam\"],[\"natus\"],[\"nemo\"],[\"nihil\"],[\"officia\"],[\"officiis\"],[\"pariatur\"],[\"perspiciatis\"],[\"possimus\"],[\"quas\"],[\"quia\"],[\"quod\"],[\"recusandae\"],[\"reprehenderit\"],[\"repudiandae\"],[\"rerum\"],[\"saepe\"],[\"sapiente\"],[\"soluta\"],[\"temporibus\"],[\"vel\"],[\"velit\"],[\"veniam\"],[\"vero\"],[\"vitae\"],[\"voluptatem\"],[\"voluptatum\"]],\"hovertemplate\":\"source=Gospels\\u003cbr\\u003evalence=%{x}\\u003cbr\\u003esemantic_size=%{y}\\u003cbr\\u003eproportion=%{marker.size}\\u003cbr\\u003esomatic_state=%{customdata[0]}\\u003cextra\\u003e\\u003c\\u002fextra\\u003e\",\"legendgroup\":\"Gospels\",\"marker\":{\"color\":\"#EF553B\",\"size\":[0.005595116988809766,0.003560528992878942,0.025940996948118005,0.0340793489318413,0.002034587995930824,0.02187182095625636,0.04577822990844354,0.002034587995930824,0.00508646998982706,0.04781281790437437,0.03611393692777213,0.015259409969481181,0.010681586978636826,0.010681586978636826,0.015768056968463885,0.006103763987792472,0.008138351983723296,0.006103763987792472,0.04425228891149542,0.0595116988809766,0.00508646998982706,0.039165818921668365,0.006612410986775178,0.0076297049847405905,0.08596134282807731,0.002034587995930824,0.013224821973550356,0.01271617497456765,0.0254323499491353,0.001525940996948118,0.00508646998982706,0.002034587995930824,0.006612410986775178,0.05035605289928789,0.0076297049847405905,0.011698880976602238,0.004069175991861648,0.002034587995930824,0.004577822990844354,0.008138351983723296,0.018311291963377416,0.006612410986775178,0.004069175991861648,0.002034587995930824,0.004577822990844354,0.002034587995930824,0.008138351983723296,0.02034587995930824,0.023906408952187184,0.008646998982706003,0.003560528992878942,0.03306205493387589,0.004069175991861648,0.017293997965412006,0.07171922685656154,0.004069175991861648,0.003051881993896236,0.006103763987792472,0.011698880976602238,0.014750762970498474,0.004069175991861648,0.011698880976602238,0.003051881993896236,0.00508646998982706],\"sizemode\":\"area\",\"sizeref\":0.00021490335707019328,\"symbol\":\"circle\",\"line\":{\"color\":\"DarkSlateGrey\",\"width\":0.01}},\"mode\":\"markers\",\"name\":\"Gospels\",\"orientation\":\"v\",\"showlegend\":true,\"x\":[0.5452647290446542,0.45282950145857676,0.557614750137516,0.5559011301887569,0.5687270835042,0.5284344311370406,0.5522160421718251,0.7126795798540115,0.4052290886640549,0.5516169449334504,0.5401042248521533,0.5490924064759855,0.5103043771925426,0.4338290152095613,0.4666483441988627,0.5163436606526375,0.5387819223105907,0.499757061402003,0.5549508270829223,0.5740635506484819,0.5628531873226166,0.5567362751615675,0.6290149780420157,0.5231466670831044,0.5760625219909397,0.5908214300870895,0.530593991279602,0.5142774530079054,0.5340468920007044,0.5627118448416392,0.5090818732976914,0.6096140742301941,0.5125110195233271,0.5373368091189984,0.5465629356248038,0.5349138366139453,0.5666391402482986,0.46299569805463153,0.47465471426645917,0.5846423367659251,0.5933409631252289,0.4567049008149367,0.477538850158453,0.5930872410535812,0.5841740336683061,0.49177540838718414,0.4556635431945324,0.5292454942678794,0.525632720278657,0.5623663926825804,0.5160946448644003,0.5226333182591658,0.5177231878042221,0.5237183518269483,0.501919942668506,0.44625209644436836,0.5831684122482935,0.5533026779691378,0.5156651411367499,0.5470099438881052,0.47246819734573364,0.5097134553867838,0.5595354487498602,0.5238572001457215],\"xaxis\":\"x\",\"y\":[0.5895705656571821,0.5382799591336932,0.5306753516197205,0.46700503710490554,0.45406512916088104,0.5292921516784402,0.56331978128715,0.44566743820905685,0.5993315547704696,0.4270970050686149,0.529401957988739,0.548496033306475,0.5604907685802096,0.525431615965707,0.5992799351612726,0.5135121991237005,0.5519595369696617,0.5640762324134508,0.43597790079061377,0.41299652975538503,0.5741284721427493,0.488655522269638,0.5603877558157995,0.4924742003281911,0.5822736585633994,0.6067099720239639,0.47228759871079373,0.4580480300861856,0.5756167197714046,0.6816581686337789,0.6114473640918732,0.4892183095216751,0.4317439863314995,0.5720138039785562,0.3977066789354597,0.5440844563038453,0.49715474620461464,0.5789719223976135,0.583951496415668,0.4716994126637777,0.5584851564729915,0.5079385821635907,0.6170901730656624,0.5173503383994102,0.5750958455933465,0.5776025056838989,0.4998258464038372,0.5882589732989286,0.4913244134058123,0.5663740231710321,0.6114799976348877,0.5450418050472553,0.5472707934677601,0.6253838433938868,0.578526294018541,0.5459902659058571,0.563106988867124,0.5388556843002638,0.5698506041713383,0.5428069490810921,0.5014906355312893,0.40412002154018567,0.5047780026992162,0.5584553748369216],\"yaxis\":\"y\",\"type\":\"scatter\"}],                        {\"template\":{\"data\":{\"histogram2dcontour\":[{\"type\":\"histogram2dcontour\",\"colorbar\":{\"outlinewidth\":0,\"ticks\":\"\"},\"colorscale\":[[0.0,\"#0d0887\"],[0.1111111111111111,\"#46039f\"],[0.2222222222222222,\"#7201a8\"],[0.3333333333333333,\"#9c179e\"],[0.4444444444444444,\"#bd3786\"],[0.5555555555555556,\"#d8576b\"],[0.6666666666666666,\"#ed7953\"],[0.7777777777777778,\"#fb9f3a\"],[0.8888888888888888,\"#fdca26\"],[1.0,\"#f0f921\"]]}],\"choropleth\":[{\"type\":\"choropleth\",\"colorbar\":{\"outlinewidth\":0,\"ticks\":\"\"}}],\"histogram2d\":[{\"type\":\"histogram2d\",\"colorbar\":{\"outlinewidth\":0,\"ticks\":\"\"},\"colorscale\":[[0.0,\"#0d0887\"],[0.1111111111111111,\"#46039f\"],[0.2222222222222222,\"#7201a8\"],[0.3333333333333333,\"#9c179e\"],[0.4444444444444444,\"#bd3786\"],[0.5555555555555556,\"#d8576b\"],[0.6666666666666666,\"#ed7953\"],[0.7777777777777778,\"#fb9f3a\"],[0.8888888888888888,\"#fdca26\"],[1.0,\"#f0f921\"]]}],\"heatmap\":[{\"type\":\"heatmap\",\"colorbar\":{\"outlinewidth\":0,\"ticks\":\"\"},\"colorscale\":[[0.0,\"#0d0887\"],[0.1111111111111111,\"#46039f\"],[0.2222222222222222,\"#7201a8\"],[0.3333333333333333,\"#9c179e\"],[0.4444444444444444,\"#bd3786\"],[0.5555555555555556,\"#d8576b\"],[0.6666666666666666,\"#ed7953\"],[0.7777777777777778,\"#fb9f3a\"],[0.8888888888888888,\"#fdca26\"],[1.0,\"#f0f921\"]]}],\"heatmapgl\":[{\"type\":\"heatmapgl\",\"colorbar\":{\"outlinewidth\":0,\"ticks\":\"\"},\"colorscale\":[[0.0,\"#0d0887\"],[0.1111111111111111,\"#46039f\"],[0.2222222222222222,\"#7201a8\"],[0.3333333333333333,\"#9c179e\"],[0.4444444444444444,\"#bd3786\"],[0.5555555555555556,\"#d8576b\"],[0.6666666666666666,\"#ed7953\"],[0.7777777777777778,\"#fb9f3a\"],[0.8888888888888888,\"#fdca26\"],[1.0,\"#f0f921\"]]}],\"contourcarpet\":[{\"type\":\"contourcarpet\",\"colorbar\":{\"outlinewidth\":0,\"ticks\":\"\"}}],\"contour\":[{\"type\":\"contour\",\"colorbar\":{\"outlinewidth\":0,\"ticks\":\"\"},\"colorscale\":[[0.0,\"#0d0887\"],[0.1111111111111111,\"#46039f\"],[0.2222222222222222,\"#7201a8\"],[0.3333333333333333,\"#9c179e\"],[0.4444444444444444,\"#bd3786\"],[0.5555555555555556,\"#d8576b\"],[0.6666666666666666,\"#ed7953\"],[0.7777777777777778,\"#fb9f3a\"],[0.8888888888888888,\"#fdca26\"],[1.0,\"#f0f921\"]]}],\"surface\":[{\"type\":\"surface\",\"colorbar\":{\"outlinewidth\":0,\"ticks\":\"\"},\"colorscale\":[[0.0,\"#0d0887\"],[0.1111111111111111,\"#46039f\"],[0.2222222222222222,\"#7201a8\"],[0.3333333333333333,\"#9c179e\"],[0.4444444444444444,\"#bd3786\"],[0.5555555555555556,\"#d8576b\"],[0.6666666666666666,\"#ed7953\"],[0.7777777777777778,\"#fb9f3a\"],[0.8888888888888888,\"#fdca26\"],[1.0,\"#f0f921\"]]}],\"mesh3d\":[{\"type\":\"mesh3d\",\"colorbar\":{\"outlinewidth\":0,\"ticks\":\"\"}}],\"scatter\":[{\"fillpattern\":{\"fillmode\":\"overlay\",\"size\":10,\"solidity\":0.2},\"type\":\"scatter\"}],\"parcoords\":[{\"type\":\"parcoords\",\"line\":{\"colorbar\":{\"outlinewidth\":0,\"ticks\":\"\"}}}],\"scatterpolargl\":[{\"type\":\"scatterpolargl\",\"marker\":{\"colorbar\":{\"outlinewidth\":0,\"ticks\":\"\"}}}],\"bar\":[{\"error_x\":{\"color\":\"#2a3f5f\"},\"error_y\":{\"color\":\"#2a3f5f\"},\"marker\":{\"line\":{\"color\":\"#E5ECF6\",\"width\":0.5},\"pattern\":{\"fillmode\":\"overlay\",\"size\":10,\"solidity\":0.2}},\"type\":\"bar\"}],\"scattergeo\":[{\"type\":\"scattergeo\",\"marker\":{\"colorbar\":{\"outlinewidth\":0,\"ticks\":\"\"}}}],\"scatterpolar\":[{\"type\":\"scatterpolar\",\"marker\":{\"colorbar\":{\"outlinewidth\":0,\"ticks\":\"\"}}}],\"histogram\":[{\"marker\":{\"pattern\":{\"fillmode\":\"overlay\",\"size\":10,\"solidity\":0.2}},\"type\":\"histogram\"}],\"scattergl\":[{\"type\":\"scattergl\",\"marker\":{\"colorbar\":{\"outlinewidth\":0,\"ticks\":\"\"}}}],\"scatter3d\":[{\"type\":\"scatter3d\",\"line\":{\"colorbar\":{\"outlinewidth\":0,\"ticks\":\"\"}},\"marker\":{\"colorbar\":{\"outlinewidth\":0,\"ticks\":\"\"}}}],\"scattermapbox\":[{\"type\":\"scattermapbox\",\"marker\":{\"colorbar\":{\"outlinewidth\":0,\"ticks\":\"\"}}}],\"scatterternary\":[{\"type\":\"scatterternary\",\"marker\":{\"colorbar\":{\"outlinewidth\":0,\"ticks\":\"\"}}}],\"scattercarpet\":[{\"type\":\"scattercarpet\",\"marker\":{\"colorbar\":{\"outlinewidth\":0,\"ticks\":\"\"}}}],\"carpet\":[{\"aaxis\":{\"endlinecolor\":\"#2a3f5f\",\"gridcolor\":\"white\",\"linecolor\":\"white\",\"minorgridcolor\":\"white\",\"startlinecolor\":\"#2a3f5f\"},\"baxis\":{\"endlinecolor\":\"#2a3f5f\",\"gridcolor\":\"white\",\"linecolor\":\"white\",\"minorgridcolor\":\"white\",\"startlinecolor\":\"#2a3f5f\"},\"type\":\"carpet\"}],\"table\":[{\"cells\":{\"fill\":{\"color\":\"#EBF0F8\"},\"line\":{\"color\":\"white\"}},\"header\":{\"fill\":{\"color\":\"#C8D4E3\"},\"line\":{\"color\":\"white\"}},\"type\":\"table\"}],\"barpolar\":[{\"marker\":{\"line\":{\"color\":\"#E5ECF6\",\"width\":0.5},\"pattern\":{\"fillmode\":\"overlay\",\"size\":10,\"solidity\":0.2}},\"type\":\"barpolar\"}],\"pie\":[{\"automargin\":true,\"type\":\"pie\"}]},\"layout\":{\"autotypenumbers\":\"strict\",\"colorway\":[\"#636efa\",\"#EF553B\",\"#00cc96\",\"#ab63fa\",\"#FFA15A\",\"#19d3f3\",\"#FF6692\",\"#B6E880\",\"#FF97FF\",\"#FECB52\"],\"font\":{\"color\":\"#2a3f5f\"},\"hovermode\":\"closest\",\"hoverlabel\":{\"align\":\"left\"},\"paper_bgcolor\":\"white\",\"plot_bgcolor\":\"#E5ECF6\",\"polar\":{\"bgcolor\":\"#E5ECF6\",\"angularaxis\":{\"gridcolor\":\"white\",\"linecolor\":\"white\",\"ticks\":\"\"},\"radialaxis\":{\"gridcolor\":\"white\",\"linecolor\":\"white\",\"ticks\":\"\"}},\"ternary\":{\"bgcolor\":\"#E5ECF6\",\"aaxis\":{\"gridcolor\":\"white\",\"linecolor\":\"white\",\"ticks\":\"\"},\"baxis\":{\"gridcolor\":\"white\",\"linecolor\":\"white\",\"ticks\":\"\"},\"caxis\":{\"gridcolor\":\"white\",\"linecolor\":\"white\",\"ticks\":\"\"}},\"coloraxis\":{\"colorbar\":{\"outlinewidth\":0,\"ticks\":\"\"}},\"colorscale\":{\"sequential\":[[0.0,\"#0d0887\"],[0.1111111111111111,\"#46039f\"],[0.2222222222222222,\"#7201a8\"],[0.3333333333333333,\"#9c179e\"],[0.4444444444444444,\"#bd3786\"],[0.5555555555555556,\"#d8576b\"],[0.6666666666666666,\"#ed7953\"],[0.7777777777777778,\"#fb9f3a\"],[0.8888888888888888,\"#fdca26\"],[1.0,\"#f0f921\"]],\"sequentialminus\":[[0.0,\"#0d0887\"],[0.1111111111111111,\"#46039f\"],[0.2222222222222222,\"#7201a8\"],[0.3333333333333333,\"#9c179e\"],[0.4444444444444444,\"#bd3786\"],[0.5555555555555556,\"#d8576b\"],[0.6666666666666666,\"#ed7953\"],[0.7777777777777778,\"#fb9f3a\"],[0.8888888888888888,\"#fdca26\"],[1.0,\"#f0f921\"]],\"diverging\":[[0,\"#8e0152\"],[0.1,\"#c51b7d\"],[0.2,\"#de77ae\"],[0.3,\"#f1b6da\"],[0.4,\"#fde0ef\"],[0.5,\"#f7f7f7\"],[0.6,\"#e6f5d0\"],[0.7,\"#b8e186\"],[0.8,\"#7fbc41\"],[0.9,\"#4d9221\"],[1,\"#276419\"]]},\"xaxis\":{\"gridcolor\":\"white\",\"linecolor\":\"white\",\"ticks\":\"\",\"title\":{\"standoff\":15},\"zerolinecolor\":\"white\",\"automargin\":true,\"zerolinewidth\":2},\"yaxis\":{\"gridcolor\":\"white\",\"linecolor\":\"white\",\"ticks\":\"\",\"title\":{\"standoff\":15},\"zerolinecolor\":\"white\",\"automargin\":true,\"zerolinewidth\":2},\"scene\":{\"xaxis\":{\"backgroundcolor\":\"#E5ECF6\",\"gridcolor\":\"white\",\"linecolor\":\"white\",\"showbackground\":true,\"ticks\":\"\",\"zerolinecolor\":\"white\",\"gridwidth\":2},\"yaxis\":{\"backgroundcolor\":\"#E5ECF6\",\"gridcolor\":\"white\",\"linecolor\":\"white\",\"showbackground\":true,\"ticks\":\"\",\"zerolinecolor\":\"white\",\"gridwidth\":2},\"zaxis\":{\"backgroundcolor\":\"#E5ECF6\",\"gridcolor\":\"white\",\"linecolor\":\"white\",\"showbackground\":true,\"ticks\":\"\",\"zerolinecolor\":\"white\",\"gridwidth\":2}},\"shapedefaults\":{\"line\":{\"color\":\"#2a3f5f\"}},\"annotationdefaults\":{\"arrowcolor\":\"#2a3f5f\",\"arrowhead\":0,\"arrowwidth\":1},\"geo\":{\"bgcolor\":\"white\",\"landcolor\":\"#E5ECF6\",\"subunitcolor\":\"white\",\"showland\":true,\"showlakes\":true,\"lakecolor\":\"white\"},\"title\":{\"x\":0.05},\"mapbox\":{\"style\":\"light\"}}},\"xaxis\":{\"anchor\":\"y\",\"domain\":[0.0,1.0],\"title\":{\"text\":\"valence\"},\"showgrid\":true},\"yaxis\":{\"anchor\":\"x\",\"domain\":[0.0,1.0],\"title\":{\"text\":\"semantic_size\"},\"showgrid\":true},\"legend\":{\"title\":{\"text\":\"source\"},\"tracegroupgap\":0,\"itemsizing\":\"constant\"},\"margin\":{\"t\":60},\"font\":{\"color\":\"white\"},\"title\":{\"text\":\"Somatic categories scaled by frequency in terms of valence and semantic size for English and the Gospels\"},\"paper_bgcolor\":\"#343434\",\"plot_bgcolor\":\"#343434\"},                        {\"responsive\": true}                    ).then(function(){\n",
       "                            \n",
       "var gd = document.getElementById('bbccbc71-d9f4-404c-8646-f5c40df3c35d');\n",
       "var x = new MutationObserver(function (mutations, observer) {{\n",
       "        var display = window.getComputedStyle(gd).display;\n",
       "        if (!display || display === 'none') {{\n",
       "            console.log([gd, 'removed!']);\n",
       "            Plotly.purge(gd);\n",
       "            observer.disconnect();\n",
       "        }}\n",
       "}});\n",
       "\n",
       "// Listen for the removal of the full notebook cells\n",
       "var notebookContainer = gd.closest('#notebook-container');\n",
       "if (notebookContainer) {{\n",
       "    x.observe(notebookContainer, {childList: true});\n",
       "}}\n",
       "\n",
       "// Listen for the clearing of the current output cell\n",
       "var outputEl = gd.closest('.output');\n",
       "if (outputEl) {{\n",
       "    x.observe(outputEl, {childList: true});\n",
       "}}\n",
       "\n",
       "                        })                };                });            </script>        </div>"
      ]
     },
     "metadata": {},
     "output_type": "display_data"
    }
   ],
   "source": [
    "fig = px.scatter(all_means, x='valence', y='semantic_size', \n",
    "                 size='proportion',  \n",
    "                 color='source',     \n",
    "                 hover_data=['somatic_state'])\n",
    "\n",
    "\n",
    "fig.update_traces(marker=dict(line=dict(width=0.01, color='DarkSlateGrey')),\n",
    "                  selector=dict(mode='markers'))\n",
    "\n",
    "\n",
    "fig.update_layout(\n",
    "    title='Somatic categories scaled by frequency in terms of valence and semantic size for English and the Gospels',\n",
    "    paper_bgcolor=\"#343434\",  \n",
    "    plot_bgcolor=\"#343434\",  \n",
    "    font=dict(color='white'), \n",
    "    xaxis=dict(showgrid=True),  \n",
    "    yaxis=dict(showgrid=True)   \n",
    ")\n",
    "\n",
    "\n",
    "fig.show()\n",
    "\n",
    "#fig.write_html(\"/Users/james/Documents/IGEL/English_gospel_valence_ss.html\")"
   ]
  },
  {
   "cell_type": "markdown",
   "id": "039d4b20-0c06-4e15-ba87-587854622026",
   "metadata": {},
   "source": [
    "[Somatic categories scaled by frequency in terms of valence and semantic size](https://texturejc.github.io/IGEL/English_gospel_valence_ss.html)"
   ]
  },
  {
   "cell_type": "code",
   "execution_count": 85,
   "id": "06b21884-65af-49d1-b03a-28dcc5ad07f9",
   "metadata": {},
   "outputs": [],
   "source": [
    "all_words = pd.read_pickle(\"all_words.pkl\")"
   ]
  },
  {
   "cell_type": "code",
   "execution_count": 88,
   "id": "ffc7711c-3d88-4d3f-bae6-5711866764e4",
   "metadata": {},
   "outputs": [],
   "source": [
    "aov = pg.anova(dv='valence', between=['somatic_state','source'], data=all_words,\n",
    "               detailed=True)"
   ]
  },
  {
   "cell_type": "code",
   "execution_count": 112,
   "id": "ef1df98c-5d1e-40e6-82d0-02c09793c75f",
   "metadata": {},
   "outputs": [
    {
     "data": {
      "text/html": [
       "<div>\n",
       "<style scoped>\n",
       "    .dataframe tbody tr th:only-of-type {\n",
       "        vertical-align: middle;\n",
       "    }\n",
       "\n",
       "    .dataframe tbody tr th {\n",
       "        vertical-align: top;\n",
       "    }\n",
       "\n",
       "    .dataframe thead th {\n",
       "        text-align: right;\n",
       "    }\n",
       "</style>\n",
       "<table border=\"1\" class=\"dataframe\">\n",
       "  <thead>\n",
       "    <tr style=\"text-align: right;\">\n",
       "      <th></th>\n",
       "      <th>Source</th>\n",
       "      <th>SS</th>\n",
       "      <th>DF</th>\n",
       "      <th>MS</th>\n",
       "      <th>F</th>\n",
       "      <th>p-unc</th>\n",
       "      <th>np2</th>\n",
       "    </tr>\n",
       "  </thead>\n",
       "  <tbody>\n",
       "    <tr>\n",
       "      <th>0</th>\n",
       "      <td>somatic_state</td>\n",
       "      <td>14.854775</td>\n",
       "      <td>63.0</td>\n",
       "      <td>0.235790</td>\n",
       "      <td>19.833356</td>\n",
       "      <td>5.619711e-215</td>\n",
       "      <td>0.039832</td>\n",
       "    </tr>\n",
       "    <tr>\n",
       "      <th>1</th>\n",
       "      <td>source</td>\n",
       "      <td>3.075189</td>\n",
       "      <td>1.0</td>\n",
       "      <td>3.075189</td>\n",
       "      <td>258.667876</td>\n",
       "      <td>5.841962e-58</td>\n",
       "      <td>0.008515</td>\n",
       "    </tr>\n",
       "    <tr>\n",
       "      <th>2</th>\n",
       "      <td>somatic_state * source</td>\n",
       "      <td>0.550623</td>\n",
       "      <td>63.0</td>\n",
       "      <td>0.008740</td>\n",
       "      <td>0.735164</td>\n",
       "      <td>9.429997e-01</td>\n",
       "      <td>0.001535</td>\n",
       "    </tr>\n",
       "    <tr>\n",
       "      <th>3</th>\n",
       "      <td>Residual</td>\n",
       "      <td>358.083479</td>\n",
       "      <td>30120.0</td>\n",
       "      <td>0.011889</td>\n",
       "      <td>NaN</td>\n",
       "      <td>NaN</td>\n",
       "      <td>NaN</td>\n",
       "    </tr>\n",
       "  </tbody>\n",
       "</table>\n",
       "</div>"
      ],
      "text/plain": [
       "                   Source          SS       DF        MS           F  \\\n",
       "0           somatic_state   14.854775     63.0  0.235790   19.833356   \n",
       "1                  source    3.075189      1.0  3.075189  258.667876   \n",
       "2  somatic_state * source    0.550623     63.0  0.008740    0.735164   \n",
       "3                Residual  358.083479  30120.0  0.011889         NaN   \n",
       "\n",
       "           p-unc       np2  \n",
       "0  5.619711e-215  0.039832  \n",
       "1   5.841962e-58  0.008515  \n",
       "2   9.429997e-01  0.001535  \n",
       "3            NaN       NaN  "
      ]
     },
     "execution_count": 112,
     "metadata": {},
     "output_type": "execute_result"
    }
   ],
   "source": [
    "aov"
   ]
  },
  {
   "cell_type": "markdown",
   "id": "5ed437c3-855c-49ab-80eb-c038bffff576",
   "metadata": {},
   "source": [
    "## 3. Measuring entropy differences\n"
   ]
  },
  {
   "cell_type": "code",
   "execution_count": null,
   "id": "6ad71b08-7772-4562-bfda-dc57be1ed700",
   "metadata": {},
   "outputs": [],
   "source": [
    "all_words"
   ]
  },
  {
   "cell_type": "code",
   "execution_count": null,
   "id": "f6feedef-55a2-4698-9432-87c718ebd6ba",
   "metadata": {},
   "outputs": [],
   "source": [
    "all_means"
   ]
  },
  {
   "cell_type": "code",
   "execution_count": 95,
   "id": "8d90c447-2910-4e2b-8dec-7bf83a146b36",
   "metadata": {},
   "outputs": [],
   "source": [
    "english = all_means.loc[all_means['source'] == \"All English\", 'proportion']\n",
    "gospels = all_means.loc[all_means['source'] == \"Gospels\", 'proportion']"
   ]
  },
  {
   "cell_type": "code",
   "execution_count": 102,
   "id": "da831fb1-a0a8-4998-bb71-5ebe1f30fff8",
   "metadata": {},
   "outputs": [
    {
     "data": {
      "text/plain": [
       "0.14100854401266982"
      ]
     },
     "execution_count": 102,
     "metadata": {},
     "output_type": "execute_result"
    }
   ],
   "source": [
    "scipy.stats.entropy(english, base = 2) - scipy.stats.entropy(gospels, base = 2)"
   ]
  },
  {
   "cell_type": "code",
   "execution_count": 108,
   "id": "8cea8ddf-85c2-4686-bf5b-cad60d0f2916",
   "metadata": {},
   "outputs": [
    {
     "data": {
      "text/plain": [
       "0.08055251840159813"
      ]
     },
     "execution_count": 108,
     "metadata": {},
     "output_type": "execute_result"
    }
   ],
   "source": [
    "scipy.stats.entropy(english, gospels, base = 2)"
   ]
  },
  {
   "cell_type": "markdown",
   "id": "437bce39-2fca-4441-99d1-82f3616f53da",
   "metadata": {},
   "source": [
    "## Next steps: The memetics of religion\n",
    "\n",
    "### How is the anxiety-reduction payoff from the simpler encoding delivered through <i>work</i>? This can occur through action in two dimensions:\n",
    "\n",
    "* <b>Evangelism</b>: The low anxiety framing of common somantic states consistent with the Gospels is increased through repetition. Not in the literal sense, but in the alteration of the cultural and physical environment to flood it with evidence of the Gospels' world-encoding. (Small margin, high volume)\n",
    "* <b>Asceticism</b>: When the information efficiency gains are relatively small due to code similarity, a simpler encoding can make the entropy reduction larger. In this context, this would mean simplifying the sensory encoding of English––say, but removing one sensory modality. In practical terms, this entails asceticism, where sensory states are reduced through active effort (fasting, pilgrimage, mortification, meditation, etc).\n"
   ]
  },
  {
   "cell_type": "code",
   "execution_count": null,
   "id": "91bc5f64-038e-40c1-86e1-172c2f6167eb",
   "metadata": {},
   "outputs": [],
   "source": [
    "|"
   ]
  }
 ],
 "metadata": {
  "kernelspec": {
   "display_name": "Python 3 (ipykernel)",
   "language": "python",
   "name": "python3"
  },
  "language_info": {
   "codemirror_mode": {
    "name": "ipython",
    "version": 3
   },
   "file_extension": ".py",
   "mimetype": "text/x-python",
   "name": "python",
   "nbconvert_exporter": "python",
   "pygments_lexer": "ipython3",
   "version": "3.9.18"
  }
 },
 "nbformat": 4,
 "nbformat_minor": 5
}
